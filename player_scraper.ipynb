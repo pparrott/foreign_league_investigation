{
 "metadata": {
  "language_info": {
   "codemirror_mode": {
    "name": "ipython",
    "version": 3
   },
   "file_extension": ".py",
   "mimetype": "text/x-python",
   "name": "python",
   "nbconvert_exporter": "python",
   "pygments_lexer": "ipython3",
   "version": "3.8.3-final"
  },
  "orig_nbformat": 2,
  "kernelspec": {
   "name": "python38364bit5f88b82d4ec045bc9cc04328f1317899",
   "display_name": "Python 3.8.3 64-bit"
  }
 },
 "nbformat": 4,
 "nbformat_minor": 2,
 "cells": [
  {
   "cell_type": "markdown",
   "metadata": {},
   "source": [
    "# Player data scraping\n",
    "---\n",
    "Using JS-rendered HTML tables on Baseball-Reference"
   ]
  },
  {
   "cell_type": "code",
   "execution_count": 1,
   "metadata": {},
   "outputs": [],
   "source": [
    "import bs4\n",
    "import numpy as np \n",
    "import pandas as pd \n",
    "from requests_html import AsyncHTMLSession\n",
    "from time import time "
   ]
  },
  {
   "cell_type": "code",
   "execution_count": 2,
   "metadata": {},
   "outputs": [],
   "source": [
    "# Player ids\n",
    "player_id = 'fernan018jos'\n",
    "# player_id = 'guerre002vla'"
   ]
  },
  {
   "cell_type": "code",
   "execution_count": 3,
   "metadata": {},
   "outputs": [],
   "source": [
    "# set-up an Asynchronous session to work with Jupyter\n",
    "session = AsyncHTMLSession()\n",
    "res = await session.get('https://www.baseball-reference.com/register/player.fcgi?id={player_id}'.format(player_id=player_id))\n",
    "# render the javascript on the page to get a fuller html file\n",
    "await res.html.arender()"
   ]
  },
  {
   "cell_type": "code",
   "execution_count": 4,
   "metadata": {},
   "outputs": [],
   "source": [
    "# parse the HTML to find the table we need, standard batting\n",
    "table_search = bs4.BeautifulSoup(res.html.html, 'lxml').select('#standard_batting')\n",
    "# read into a DataFrame (make sure to take the correct element... so long as the #standard_batting is found, this should work)\n",
    "df = pd.read_html(str(table_search))[0]"
   ]
  },
  {
   "cell_type": "code",
   "execution_count": 5,
   "metadata": {},
   "outputs": [],
   "source": [
    "# Cut to unaggregated data\n",
    "agg_location = df.index[df.Year == 'Year'].tolist()[0]\n",
    "df_out = df.iloc[:agg_location]\n",
    "# Remove N/A's\n",
    "df_out = df_out[~df_out.isna().all(axis=1)]"
   ]
  },
  {
   "cell_type": "code",
   "execution_count": 6,
   "metadata": {},
   "outputs": [],
   "source": [
    "# Create a list of columns that need to change data types\n",
    "type_change_dict = {'Year': int,\n",
    "                    'Age': int,\n",
    "                    'G': int,\n",
    "                    'PA': int,\n",
    "                    'AB': int,\n",
    "                    'R': int,\n",
    "                    'H': int,\n",
    "                    '2B': int,\n",
    "                    '3B': int,\n",
    "                    'HR': int,\n",
    "                    'RBI': int,\n",
    "                    'SB': int,\n",
    "                    'CS': int,\n",
    "                    'BB': int,\n",
    "                    'SO': int,\n",
    "                    'BA': float,\n",
    "                    'OBP': float,\n",
    "                    'SLG': float,\n",
    "                    'OPS': float,\n",
    "                    'TB': int,\n",
    "                    'GDP': int,\n",
    "                    'HBP': int,\n",
    "                    'SH': int,\n",
    "                    'SF': int,\n",
    "                    'IBB': int}\n",
    "# Make sure that the Year is only 4 long\n",
    "df_out['Year'] = df_out['Year'].str[:4]\n",
    "# Loop around all of these \n",
    "for i in type_change_dict: \n",
    "    df_out[i] = df_out[i].astype(type_change_dict[i])\n",
    "# In the output dataframe, add the playerid as a column\n",
    "df_out['player_id'] = player_id"
   ]
  },
  {
   "cell_type": "code",
   "execution_count": 7,
   "metadata": {},
   "outputs": [
    {
     "output_type": "execute_result",
     "data": {
      "text/plain": "    Year  Age AgeDif             Tm     Lg      Lev  Aff    G   PA   AB  ...  \\\n0   2007   19   -5.7       Matanzas    CNS      Fgn  NaN   79  345  309  ...   \n1   2008   20   -5.3       Matanzas    CNS      Fgn  NaN   81  375  335  ...   \n2   2009   21   -4.3       Matanzas    CNS      Fgn  NaN   90  419  382  ...   \n3   2010   22   -3.8       Matanzas    CNS      Fgn  NaN   87  360  319  ...   \n4   2011   23   -3.2       Matanzas    CNS      Fgn  NaN   86  338  265  ...   \n5   2012   24   -2.2       Matanzas    CNS      Fgn  NaN   87  364  301  ...   \n6   2013   25    NaN        2 Teams  2 Lgs  Fgn-FgW  NaN   87  329  248  ...   \n7   2013   25   -1.7       Matanzas    CNS      Fgn  NaN   83  314  239  ...   \n8   2013   25   -4.4           Cuba   CARS      FgW  NaN    4   15    9  ...   \n9   2014   26   -0.7       Matanzas    CNS      Fgn  NaN   15   65   54  ...   \n11  2016   28    1.6        Aguilas   DOWL      FgW  NaN   18   66   56  ...   \n12  2017   29    NaN        2 Teams  2 Lgs   AA-AAA  LAD   93  381  343  ...   \n13  2017   29    2.6  Oklahoma City    PCL      AAA  LAD    3   12   10  ...   \n14  2017   29    5.0          Tulsa     TL       AA  LAD   90  369  333  ...   \n15  2018   30    1.8            LAA     AL      MLB  LAA   36  123  116  ...   \n16  2018   30    3.5      Salt Lake    PCL      AAA  LAA   91  394  357  ...   \n17  2018   30    3.4      Estrellas   DOWL      FgW  NaN   21   83   72  ...   \n18  2019   31    2.2         Doosan    KBO      Fgn  NaN  144  645  572  ...   \n19  2020   32    2.8         Doosan    KBO      Fgn  NaN   70  324  283  ...   \n\n      OBP    SLG    OPS   TB  GDP  HBP  SH  SF  IBB     player_id  \n0   0.343  0.350  0.693  108   10    5  10   1    0  fernan018jos  \n1   0.372  0.379  0.751  127   21   10   7   3    1  fernan018jos  \n2   0.391  0.469  0.860  179   10   11   5   2    0  fernan018jos  \n3   0.340  0.370  0.710  118   16    5   7   3    5  fernan018jos  \n4   0.444  0.453  0.897  120    8    8   5   4    7  fernan018jos  \n5   0.456  0.492  0.947  148    7    8   4   2   13  fernan018jos  \n6   0.480  0.444  0.924  110    7    8   2   1   21  fernan018jos  \n7   0.482  0.456  0.938  109    7    8   1   1   21  fernan018jos  \n8   0.429  0.111  0.540    1    0    0   1   0    0  fernan018jos  \n9   0.415  0.426  0.841   23    2    2   0   1    0  fernan018jos  \n11  0.369  0.286  0.655   16    1    0   1   1    0  fernan018jos  \n12  0.367  0.496  0.863  170   14   10   0   3    0  fernan018jos  \n13  0.417  0.400  0.817    4    0    1   0   0    0  fernan018jos  \n14  0.366  0.498  0.864  166   14    9   0   3    0  fernan018jos  \n15  0.309  0.388  0.697   45    2    1   0   0    0  fernan018jos  \n16  0.396  0.535  0.931  191   11    4   0   0    3  fernan018jos  \n17  0.289  0.278  0.567   20    1    0   0   3    1  fernan018jos  \n18  0.409  0.483  0.892  276   16    6   0   6    4  fernan018jos  \n19  0.432  0.565  0.997  160   12    7   0   4    1  fernan018jos  \n\n[19 rows x 31 columns]",
      "text/html": "<div>\n<style scoped>\n    .dataframe tbody tr th:only-of-type {\n        vertical-align: middle;\n    }\n\n    .dataframe tbody tr th {\n        vertical-align: top;\n    }\n\n    .dataframe thead th {\n        text-align: right;\n    }\n</style>\n<table border=\"1\" class=\"dataframe\">\n  <thead>\n    <tr style=\"text-align: right;\">\n      <th></th>\n      <th>Year</th>\n      <th>Age</th>\n      <th>AgeDif</th>\n      <th>Tm</th>\n      <th>Lg</th>\n      <th>Lev</th>\n      <th>Aff</th>\n      <th>G</th>\n      <th>PA</th>\n      <th>AB</th>\n      <th>...</th>\n      <th>OBP</th>\n      <th>SLG</th>\n      <th>OPS</th>\n      <th>TB</th>\n      <th>GDP</th>\n      <th>HBP</th>\n      <th>SH</th>\n      <th>SF</th>\n      <th>IBB</th>\n      <th>player_id</th>\n    </tr>\n  </thead>\n  <tbody>\n    <tr>\n      <th>0</th>\n      <td>2007</td>\n      <td>19</td>\n      <td>-5.7</td>\n      <td>Matanzas</td>\n      <td>CNS</td>\n      <td>Fgn</td>\n      <td>NaN</td>\n      <td>79</td>\n      <td>345</td>\n      <td>309</td>\n      <td>...</td>\n      <td>0.343</td>\n      <td>0.350</td>\n      <td>0.693</td>\n      <td>108</td>\n      <td>10</td>\n      <td>5</td>\n      <td>10</td>\n      <td>1</td>\n      <td>0</td>\n      <td>fernan018jos</td>\n    </tr>\n    <tr>\n      <th>1</th>\n      <td>2008</td>\n      <td>20</td>\n      <td>-5.3</td>\n      <td>Matanzas</td>\n      <td>CNS</td>\n      <td>Fgn</td>\n      <td>NaN</td>\n      <td>81</td>\n      <td>375</td>\n      <td>335</td>\n      <td>...</td>\n      <td>0.372</td>\n      <td>0.379</td>\n      <td>0.751</td>\n      <td>127</td>\n      <td>21</td>\n      <td>10</td>\n      <td>7</td>\n      <td>3</td>\n      <td>1</td>\n      <td>fernan018jos</td>\n    </tr>\n    <tr>\n      <th>2</th>\n      <td>2009</td>\n      <td>21</td>\n      <td>-4.3</td>\n      <td>Matanzas</td>\n      <td>CNS</td>\n      <td>Fgn</td>\n      <td>NaN</td>\n      <td>90</td>\n      <td>419</td>\n      <td>382</td>\n      <td>...</td>\n      <td>0.391</td>\n      <td>0.469</td>\n      <td>0.860</td>\n      <td>179</td>\n      <td>10</td>\n      <td>11</td>\n      <td>5</td>\n      <td>2</td>\n      <td>0</td>\n      <td>fernan018jos</td>\n    </tr>\n    <tr>\n      <th>3</th>\n      <td>2010</td>\n      <td>22</td>\n      <td>-3.8</td>\n      <td>Matanzas</td>\n      <td>CNS</td>\n      <td>Fgn</td>\n      <td>NaN</td>\n      <td>87</td>\n      <td>360</td>\n      <td>319</td>\n      <td>...</td>\n      <td>0.340</td>\n      <td>0.370</td>\n      <td>0.710</td>\n      <td>118</td>\n      <td>16</td>\n      <td>5</td>\n      <td>7</td>\n      <td>3</td>\n      <td>5</td>\n      <td>fernan018jos</td>\n    </tr>\n    <tr>\n      <th>4</th>\n      <td>2011</td>\n      <td>23</td>\n      <td>-3.2</td>\n      <td>Matanzas</td>\n      <td>CNS</td>\n      <td>Fgn</td>\n      <td>NaN</td>\n      <td>86</td>\n      <td>338</td>\n      <td>265</td>\n      <td>...</td>\n      <td>0.444</td>\n      <td>0.453</td>\n      <td>0.897</td>\n      <td>120</td>\n      <td>8</td>\n      <td>8</td>\n      <td>5</td>\n      <td>4</td>\n      <td>7</td>\n      <td>fernan018jos</td>\n    </tr>\n    <tr>\n      <th>5</th>\n      <td>2012</td>\n      <td>24</td>\n      <td>-2.2</td>\n      <td>Matanzas</td>\n      <td>CNS</td>\n      <td>Fgn</td>\n      <td>NaN</td>\n      <td>87</td>\n      <td>364</td>\n      <td>301</td>\n      <td>...</td>\n      <td>0.456</td>\n      <td>0.492</td>\n      <td>0.947</td>\n      <td>148</td>\n      <td>7</td>\n      <td>8</td>\n      <td>4</td>\n      <td>2</td>\n      <td>13</td>\n      <td>fernan018jos</td>\n    </tr>\n    <tr>\n      <th>6</th>\n      <td>2013</td>\n      <td>25</td>\n      <td>NaN</td>\n      <td>2 Teams</td>\n      <td>2 Lgs</td>\n      <td>Fgn-FgW</td>\n      <td>NaN</td>\n      <td>87</td>\n      <td>329</td>\n      <td>248</td>\n      <td>...</td>\n      <td>0.480</td>\n      <td>0.444</td>\n      <td>0.924</td>\n      <td>110</td>\n      <td>7</td>\n      <td>8</td>\n      <td>2</td>\n      <td>1</td>\n      <td>21</td>\n      <td>fernan018jos</td>\n    </tr>\n    <tr>\n      <th>7</th>\n      <td>2013</td>\n      <td>25</td>\n      <td>-1.7</td>\n      <td>Matanzas</td>\n      <td>CNS</td>\n      <td>Fgn</td>\n      <td>NaN</td>\n      <td>83</td>\n      <td>314</td>\n      <td>239</td>\n      <td>...</td>\n      <td>0.482</td>\n      <td>0.456</td>\n      <td>0.938</td>\n      <td>109</td>\n      <td>7</td>\n      <td>8</td>\n      <td>1</td>\n      <td>1</td>\n      <td>21</td>\n      <td>fernan018jos</td>\n    </tr>\n    <tr>\n      <th>8</th>\n      <td>2013</td>\n      <td>25</td>\n      <td>-4.4</td>\n      <td>Cuba</td>\n      <td>CARS</td>\n      <td>FgW</td>\n      <td>NaN</td>\n      <td>4</td>\n      <td>15</td>\n      <td>9</td>\n      <td>...</td>\n      <td>0.429</td>\n      <td>0.111</td>\n      <td>0.540</td>\n      <td>1</td>\n      <td>0</td>\n      <td>0</td>\n      <td>1</td>\n      <td>0</td>\n      <td>0</td>\n      <td>fernan018jos</td>\n    </tr>\n    <tr>\n      <th>9</th>\n      <td>2014</td>\n      <td>26</td>\n      <td>-0.7</td>\n      <td>Matanzas</td>\n      <td>CNS</td>\n      <td>Fgn</td>\n      <td>NaN</td>\n      <td>15</td>\n      <td>65</td>\n      <td>54</td>\n      <td>...</td>\n      <td>0.415</td>\n      <td>0.426</td>\n      <td>0.841</td>\n      <td>23</td>\n      <td>2</td>\n      <td>2</td>\n      <td>0</td>\n      <td>1</td>\n      <td>0</td>\n      <td>fernan018jos</td>\n    </tr>\n    <tr>\n      <th>11</th>\n      <td>2016</td>\n      <td>28</td>\n      <td>1.6</td>\n      <td>Aguilas</td>\n      <td>DOWL</td>\n      <td>FgW</td>\n      <td>NaN</td>\n      <td>18</td>\n      <td>66</td>\n      <td>56</td>\n      <td>...</td>\n      <td>0.369</td>\n      <td>0.286</td>\n      <td>0.655</td>\n      <td>16</td>\n      <td>1</td>\n      <td>0</td>\n      <td>1</td>\n      <td>1</td>\n      <td>0</td>\n      <td>fernan018jos</td>\n    </tr>\n    <tr>\n      <th>12</th>\n      <td>2017</td>\n      <td>29</td>\n      <td>NaN</td>\n      <td>2 Teams</td>\n      <td>2 Lgs</td>\n      <td>AA-AAA</td>\n      <td>LAD</td>\n      <td>93</td>\n      <td>381</td>\n      <td>343</td>\n      <td>...</td>\n      <td>0.367</td>\n      <td>0.496</td>\n      <td>0.863</td>\n      <td>170</td>\n      <td>14</td>\n      <td>10</td>\n      <td>0</td>\n      <td>3</td>\n      <td>0</td>\n      <td>fernan018jos</td>\n    </tr>\n    <tr>\n      <th>13</th>\n      <td>2017</td>\n      <td>29</td>\n      <td>2.6</td>\n      <td>Oklahoma City</td>\n      <td>PCL</td>\n      <td>AAA</td>\n      <td>LAD</td>\n      <td>3</td>\n      <td>12</td>\n      <td>10</td>\n      <td>...</td>\n      <td>0.417</td>\n      <td>0.400</td>\n      <td>0.817</td>\n      <td>4</td>\n      <td>0</td>\n      <td>1</td>\n      <td>0</td>\n      <td>0</td>\n      <td>0</td>\n      <td>fernan018jos</td>\n    </tr>\n    <tr>\n      <th>14</th>\n      <td>2017</td>\n      <td>29</td>\n      <td>5.0</td>\n      <td>Tulsa</td>\n      <td>TL</td>\n      <td>AA</td>\n      <td>LAD</td>\n      <td>90</td>\n      <td>369</td>\n      <td>333</td>\n      <td>...</td>\n      <td>0.366</td>\n      <td>0.498</td>\n      <td>0.864</td>\n      <td>166</td>\n      <td>14</td>\n      <td>9</td>\n      <td>0</td>\n      <td>3</td>\n      <td>0</td>\n      <td>fernan018jos</td>\n    </tr>\n    <tr>\n      <th>15</th>\n      <td>2018</td>\n      <td>30</td>\n      <td>1.8</td>\n      <td>LAA</td>\n      <td>AL</td>\n      <td>MLB</td>\n      <td>LAA</td>\n      <td>36</td>\n      <td>123</td>\n      <td>116</td>\n      <td>...</td>\n      <td>0.309</td>\n      <td>0.388</td>\n      <td>0.697</td>\n      <td>45</td>\n      <td>2</td>\n      <td>1</td>\n      <td>0</td>\n      <td>0</td>\n      <td>0</td>\n      <td>fernan018jos</td>\n    </tr>\n    <tr>\n      <th>16</th>\n      <td>2018</td>\n      <td>30</td>\n      <td>3.5</td>\n      <td>Salt Lake</td>\n      <td>PCL</td>\n      <td>AAA</td>\n      <td>LAA</td>\n      <td>91</td>\n      <td>394</td>\n      <td>357</td>\n      <td>...</td>\n      <td>0.396</td>\n      <td>0.535</td>\n      <td>0.931</td>\n      <td>191</td>\n      <td>11</td>\n      <td>4</td>\n      <td>0</td>\n      <td>0</td>\n      <td>3</td>\n      <td>fernan018jos</td>\n    </tr>\n    <tr>\n      <th>17</th>\n      <td>2018</td>\n      <td>30</td>\n      <td>3.4</td>\n      <td>Estrellas</td>\n      <td>DOWL</td>\n      <td>FgW</td>\n      <td>NaN</td>\n      <td>21</td>\n      <td>83</td>\n      <td>72</td>\n      <td>...</td>\n      <td>0.289</td>\n      <td>0.278</td>\n      <td>0.567</td>\n      <td>20</td>\n      <td>1</td>\n      <td>0</td>\n      <td>0</td>\n      <td>3</td>\n      <td>1</td>\n      <td>fernan018jos</td>\n    </tr>\n    <tr>\n      <th>18</th>\n      <td>2019</td>\n      <td>31</td>\n      <td>2.2</td>\n      <td>Doosan</td>\n      <td>KBO</td>\n      <td>Fgn</td>\n      <td>NaN</td>\n      <td>144</td>\n      <td>645</td>\n      <td>572</td>\n      <td>...</td>\n      <td>0.409</td>\n      <td>0.483</td>\n      <td>0.892</td>\n      <td>276</td>\n      <td>16</td>\n      <td>6</td>\n      <td>0</td>\n      <td>6</td>\n      <td>4</td>\n      <td>fernan018jos</td>\n    </tr>\n    <tr>\n      <th>19</th>\n      <td>2020</td>\n      <td>32</td>\n      <td>2.8</td>\n      <td>Doosan</td>\n      <td>KBO</td>\n      <td>Fgn</td>\n      <td>NaN</td>\n      <td>70</td>\n      <td>324</td>\n      <td>283</td>\n      <td>...</td>\n      <td>0.432</td>\n      <td>0.565</td>\n      <td>0.997</td>\n      <td>160</td>\n      <td>12</td>\n      <td>7</td>\n      <td>0</td>\n      <td>4</td>\n      <td>1</td>\n      <td>fernan018jos</td>\n    </tr>\n  </tbody>\n</table>\n<p>19 rows × 31 columns</p>\n</div>"
     },
     "metadata": {},
     "execution_count": 7
    }
   ],
   "source": [
    "df_out"
   ]
  }
 ]
}
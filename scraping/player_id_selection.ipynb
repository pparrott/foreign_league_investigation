{
 "metadata": {
  "language_info": {
   "codemirror_mode": {
    "name": "ipython",
    "version": 3
   },
   "file_extension": ".py",
   "mimetype": "text/x-python",
   "name": "python",
   "nbconvert_exporter": "python",
   "pygments_lexer": "ipython3",
   "version": 3
  },
  "orig_nbformat": 2,
  "kernelspec": {
   "name": "python_defaultSpec_1596382982223",
   "display_name": "Python 3.8.3 64-bit"
  }
 },
 "nbformat": 4,
 "nbformat_minor": 2,
 "cells": [
  {
   "cell_type": "markdown",
   "metadata": {},
   "source": [
    "# Player id scraping\n",
    "---\n",
    "Getting all player data from KBO and NPB teams who have played in the MLB"
   ]
  },
  {
   "cell_type": "markdown",
   "metadata": {},
   "source": [
    "## Obtaining team codes\n",
    "The first step involves getting the links to every team's lineup for every season"
   ]
  },
  {
   "cell_type": "code",
   "execution_count": 1,
   "metadata": {},
   "outputs": [],
   "source": [
    "import bs4\n",
    "import numpy as np \n",
    "import pandas as pd \n",
    "from requests_html import AsyncHTMLSession\n",
    "import time"
   ]
  },
  {
   "cell_type": "code",
   "execution_count": 2,
   "metadata": {},
   "outputs": [],
   "source": [
    "league_codes = [\n",
    "    ('KBO', 'KBO'),\n",
    "    ('NPB_central', 'JPCL'),\n",
    "    ('NPB_pacific', 'JPPL')\n",
    "]\n",
    "league_url = 'https://www.baseball-reference.com/register/league.cgi?code={league}&class=Fgn'\n"
   ]
  },
  {
   "cell_type": "code",
   "execution_count": 3,
   "metadata": {
    "tags": []
   },
   "outputs": [
    {
     "output_type": "stream",
     "name": "stdout",
     "text": "Beginning KBO scrape...\nKBO rendered.\n174 total links after completion of KBO\n\nBeginning NPB_central scrape...\nNPB_central rendered.\n294 total links after completion of NPB_central\n\nBeginning NPB_pacific scrape...\nNPB_pacific rendered.\n414 total links after completion of NPB_pacific\n\nCompleted.\n"
    }
   ],
   "source": [
    "# Open session and generate blank list\n",
    "session = AsyncHTMLSession()\n",
    "link_list = []\n",
    "# Loop for each league and gather all team links\n",
    "for league_tup in league_codes:\n",
    "    print('Beginning', league_tup[0], 'scrape...')\n",
    "    # Render the page's JS\n",
    "    res = await session.get(league_url.format(league=league_tup[1]))\n",
    "    await res.html.arender()\n",
    "    print(league_tup[0], 'rendered.')\n",
    "    # Make some soup and take a look at the lg_history table\n",
    "    league_history_soup = bs4.BeautifulSoup(res.html.html, 'lxml')\n",
    "    league_history_rows = league_history_soup.select('#lg_history tbody tr')\n",
    "\n",
    "    count = 0\n",
    "    i = 0\n",
    "    # Loop over each row and take each individual team's links\n",
    "    while count < 20:  # take the last 20 seasons of players\n",
    "        if league_history_rows[i].get('class') == 'thead':\n",
    "            # This is a catch for blank rows, so as not to have a blank season\n",
    "            i += 1\n",
    "        else:\n",
    "            for link in league_history_rows[i].select('td a'):\n",
    "                # append the league it belongs to, and the link's reference\n",
    "                link_list.append((league_tup[0], link.get('href')))\n",
    "            i += 1\n",
    "            count += 1\n",
    "    print(len(link_list), 'total links after completion of', league_tup[0])\n",
    "    print()\n",
    "    time.sleep(5)\n",
    "print('Completed.')"
   ]
  },
  {
   "cell_type": "markdown",
   "metadata": {},
   "source": [
    "## Obtaining only the MLB players' ids\n",
    "The second step involves chasing each of these team links, and identifying the player_ids that are designated as former MLB players\n",
    "\n",
    "One thing to keep in mind, is that these identify HOF'ers as well, so each players data has to be checked to make sure that they were in fact an MLB player"
   ]
  },
  {
   "cell_type": "code",
   "execution_count": 4,
   "metadata": {
    "tags": []
   },
   "outputs": [
    {
     "output_type": "stream",
     "name": "stdout",
     "text": "Next iteration begins\nScraping KBO ...\nSleep finished. Getting session\nGot session, attempting render.\nPage 1 rendered.\nPage 1 scraped. 3 new players added.\n3 total players.\n\nNext iteration begins\nSleep finished. Getting session\nGot session, attempting render.\nPage 2 rendered.\nPage 2 scraped. 4 new players added.\n7 total players.\n\nNext iteration begins\nSleep finished. Getting session\nGot session, attempting render.\nPage 3 rendered.\nPage 3 scraped. 3 new players added.\n10 total players.\n\nNext iteration begins\nSleep finished. Getting session\nGot session, attempting render.\nPage 4 rendered.\nPage 4 scraped. 5 new players added.\n15 total players.\n\nNext iteration begins\nSleep finished. Getting session\nGot session, attempting render.\nPage 5 rendered.\nPage 5 scraped. 3 new players added.\n18 total players.\n\nNext iteration begins\nSleep finished. Getting session\nGot session, attempting render.\nPage 6 rendered.\nPage 6 scraped. 3 new players added.\n21 total players.\n\nNext iteration begins\nSleep finished. Getting session\nGot session, attempting render.\nPage 7 rendered.\nPage 7 scraped. 4 new players added.\n25 total players.\n\nNext iteration begins\nSleep finished. Getting session\nGot session, attempting render.\nPage 8 rendered.\nPage 8 scraped. 3 new players added.\n28 total players.\n\nNext iteration begins\nSleep finished. Getting session\nGot session, attempting render.\nPage 9 rendered.\nPage 9 scraped. 4 new players added.\n32 total players.\n\nNext iteration begins\nSleep finished. Getting session\nGot session, attempting render.\nPage 10 rendered.\nPage 10 scraped. 3 new players added.\n35 total players.\n\nNext iteration begins\nSleep finished. Getting session\nGot session, attempting render.\nPage 11 rendered.\nPage 11 scraped. 2 new players added.\n37 total players.\n\nNext iteration begins\nSleep finished. Getting session\nGot session, attempting render.\nPage 12 rendered.\nPage 12 scraped. 0 new players added.\n37 total players.\n\nNext iteration begins\nSleep finished. Getting session\nGot session, attempting render.\nPage 13 rendered.\nPage 13 scraped. 3 new players added.\n40 total players.\n\nNext iteration begins\nSleep finished. Getting session\nGot session, attempting render.\nPage 14 rendered.\nPage 14 scraped. 1 new players added.\n41 total players.\n\nNext iteration begins\nSleep finished. Getting session\nGot session, attempting render.\nPage 15 rendered.\nPage 15 scraped. 0 new players added.\n41 total players.\n\nNext iteration begins\nSleep finished. Getting session\nGot session, attempting render.\nPage 16 rendered.\nPage 16 scraped. 3 new players added.\n44 total players.\n\nNext iteration begins\nSleep finished. Getting session\nGot session, attempting render.\nPage 17 rendered.\nPage 17 scraped. 3 new players added.\n47 total players.\n\nNext iteration begins\nSleep finished. Getting session\nGot session, attempting render.\nPage 18 rendered.\nPage 18 scraped. 4 new players added.\n51 total players.\n\nNext iteration begins\nFuture exception was never retrieved\nfuture: <Future finished exception=NetworkError('Protocol error (Target.sendMessageToTarget): No session with given id')>\npyppeteer.errors.NetworkError: Protocol error (Target.sendMessageToTarget): No session with given id\nSleep finished. Getting session\nGot session, attempting render.\nPage 19 rendered.\nPage 19 scraped. 4 new players added.\n55 total players.\n\nNext iteration begins\nSleep finished. Getting session\nGot session, attempting render.\nPage 20 rendered.\nPage 20 scraped. 3 new players added.\n58 total players.\n\nNext iteration begins\nSleep finished. Getting session\nGot session, attempting render.\nPage 21 rendered.\nPage 21 scraped. 2 new players added.\n60 total players.\n\nNext iteration begins\nSleep finished. Getting session\nGot session, attempting render.\nPage 22 rendered.\nPage 22 scraped. 3 new players added.\n63 total players.\n\nNext iteration begins\nSleep finished. Getting session\nGot session, attempting render.\nPage 23 rendered.\nPage 23 scraped. 4 new players added.\n67 total players.\n\nNext iteration begins\nSleep finished. Getting session\nGot session, attempting render.\nPage 24 rendered.\nPage 24 scraped. 2 new players added.\n69 total players.\n\nNext iteration begins\nSleep finished. Getting session\nGot session, attempting render.\nPage 25 rendered.\nPage 25 scraped. 1 new players added.\n70 total players.\n\nNext iteration begins\nSleep finished. Getting session\nGot session, attempting render.\nPage 26 rendered.\nPage 26 scraped. 2 new players added.\n72 total players.\n\nNext iteration begins\nSleep finished. Getting session\nGot session, attempting render.\nPage 27 rendered.\nPage 27 scraped. 3 new players added.\n75 total players.\n\nNext iteration begins\nSleep finished. Getting session\nGot session, attempting render.\nPage 28 rendered.\nPage 28 scraped. 3 new players added.\n78 total players.\n\nNext iteration begins\nSleep finished. Getting session\nGot session, attempting render.\nPage 29 rendered.\nPage 29 scraped. 2 new players added.\n80 total players.\n\nNext iteration begins\nSleep finished. Getting session\nGot session, attempting render.\nPage 30 rendered.\nPage 30 scraped. 1 new players added.\n81 total players.\n\nNext iteration begins\nSleep finished. Getting session\nGot session, attempting render.\nPage 31 rendered.\nPage 31 scraped. 2 new players added.\n83 total players.\n\nNext iteration begins\nSleep finished. Getting session\nGot session, attempting render.\nPage 32 rendered.\nPage 32 scraped. 3 new players added.\n86 total players.\n\nNext iteration begins\nSleep finished. Getting session\nGot session, attempting render.\nPage 33 rendered.\nPage 33 scraped. 0 new players added.\n86 total players.\n\nNext iteration begins\nSleep finished. Getting session\nGot session, attempting render.\n"
    },
    {
     "output_type": "error",
     "ename": "TimeoutError",
     "evalue": "Navigation Timeout Exceeded: 30000 ms exceeded.",
     "traceback": [
      "\u001b[0;31m---------------------------------------------------------------------------\u001b[0m",
      "\u001b[0;31mTimeoutError\u001b[0m                              Traceback (most recent call last)",
      "\u001b[0;32m<ipython-input-4-80a8230aa0d5>\u001b[0m in \u001b[0;36m<module>\u001b[0;34m\u001b[0m\n\u001b[1;32m     20\u001b[0m     \u001b[0;31m# Check for time-out errors when rendering JS\u001b[0m\u001b[0;34m\u001b[0m\u001b[0;34m\u001b[0m\u001b[0;34m\u001b[0m\u001b[0m\n\u001b[1;32m     21\u001b[0m     \u001b[0;32mtry\u001b[0m\u001b[0;34m:\u001b[0m\u001b[0;34m\u001b[0m\u001b[0;34m\u001b[0m\u001b[0m\n\u001b[0;32m---> 22\u001b[0;31m         \u001b[0;32mawait\u001b[0m \u001b[0mres\u001b[0m\u001b[0;34m.\u001b[0m\u001b[0mhtml\u001b[0m\u001b[0;34m.\u001b[0m\u001b[0marender\u001b[0m\u001b[0;34m(\u001b[0m\u001b[0mtimeout\u001b[0m \u001b[0;34m=\u001b[0m \u001b[0;36m30.0\u001b[0m\u001b[0;34m)\u001b[0m\u001b[0;34m\u001b[0m\u001b[0;34m\u001b[0m\u001b[0m\n\u001b[0m\u001b[1;32m     23\u001b[0m     \u001b[0;32mexcept\u001b[0m \u001b[0mTimeoutError\u001b[0m\u001b[0;34m:\u001b[0m\u001b[0;34m\u001b[0m\u001b[0;34m\u001b[0m\u001b[0m\n\u001b[1;32m     24\u001b[0m         \u001b[0mprint\u001b[0m\u001b[0;34m(\u001b[0m\u001b[0;34m'Page'\u001b[0m\u001b[0;34m,\u001b[0m \u001b[0mi\u001b[0m \u001b[0;34m+\u001b[0m \u001b[0;36m1\u001b[0m\u001b[0;34m,\u001b[0m \u001b[0;34m'failed due to timeout.'\u001b[0m\u001b[0;34m)\u001b[0m\u001b[0;34m\u001b[0m\u001b[0;34m\u001b[0m\u001b[0m\n",
      "\u001b[0;32m/usr/local/lib/python3.8/site-packages/requests_html.py\u001b[0m in \u001b[0;36marender\u001b[0;34m(self, retries, script, wait, scrolldown, sleep, reload, timeout, keep_page)\u001b[0m\n\u001b[1;32m    624\u001b[0m                 \u001b[0;32mtry\u001b[0m\u001b[0;34m:\u001b[0m\u001b[0;34m\u001b[0m\u001b[0;34m\u001b[0m\u001b[0m\n\u001b[1;32m    625\u001b[0m \u001b[0;34m\u001b[0m\u001b[0m\n\u001b[0;32m--> 626\u001b[0;31m                     \u001b[0mcontent\u001b[0m\u001b[0;34m,\u001b[0m \u001b[0mresult\u001b[0m\u001b[0;34m,\u001b[0m \u001b[0mpage\u001b[0m \u001b[0;34m=\u001b[0m \u001b[0;32mawait\u001b[0m \u001b[0mself\u001b[0m\u001b[0;34m.\u001b[0m\u001b[0m_async_render\u001b[0m\u001b[0;34m(\u001b[0m\u001b[0murl\u001b[0m\u001b[0;34m=\u001b[0m\u001b[0mself\u001b[0m\u001b[0;34m.\u001b[0m\u001b[0murl\u001b[0m\u001b[0;34m,\u001b[0m \u001b[0mscript\u001b[0m\u001b[0;34m=\u001b[0m\u001b[0mscript\u001b[0m\u001b[0;34m,\u001b[0m \u001b[0msleep\u001b[0m\u001b[0;34m=\u001b[0m\u001b[0msleep\u001b[0m\u001b[0;34m,\u001b[0m \u001b[0mwait\u001b[0m\u001b[0;34m=\u001b[0m\u001b[0mwait\u001b[0m\u001b[0;34m,\u001b[0m \u001b[0mcontent\u001b[0m\u001b[0;34m=\u001b[0m\u001b[0mself\u001b[0m\u001b[0;34m.\u001b[0m\u001b[0mhtml\u001b[0m\u001b[0;34m,\u001b[0m \u001b[0mreload\u001b[0m\u001b[0;34m=\u001b[0m\u001b[0mreload\u001b[0m\u001b[0;34m,\u001b[0m \u001b[0mscrolldown\u001b[0m\u001b[0;34m=\u001b[0m\u001b[0mscrolldown\u001b[0m\u001b[0;34m,\u001b[0m \u001b[0mtimeout\u001b[0m\u001b[0;34m=\u001b[0m\u001b[0mtimeout\u001b[0m\u001b[0;34m,\u001b[0m \u001b[0mkeep_page\u001b[0m\u001b[0;34m=\u001b[0m\u001b[0mkeep_page\u001b[0m\u001b[0;34m)\u001b[0m\u001b[0;34m\u001b[0m\u001b[0;34m\u001b[0m\u001b[0m\n\u001b[0m\u001b[1;32m    627\u001b[0m                 \u001b[0;32mexcept\u001b[0m \u001b[0mTypeError\u001b[0m\u001b[0;34m:\u001b[0m\u001b[0;34m\u001b[0m\u001b[0;34m\u001b[0m\u001b[0m\n\u001b[1;32m    628\u001b[0m                     \u001b[0;32mpass\u001b[0m\u001b[0;34m\u001b[0m\u001b[0;34m\u001b[0m\u001b[0m\n",
      "\u001b[0;32m/usr/local/lib/python3.8/site-packages/requests_html.py\u001b[0m in \u001b[0;36m_async_render\u001b[0;34m(self, url, script, scrolldown, sleep, wait, reload, content, timeout, keep_page)\u001b[0m\n\u001b[1;32m    510\u001b[0m             \u001b[0;31m# Load the given page (GET request, obviously.)\u001b[0m\u001b[0;34m\u001b[0m\u001b[0;34m\u001b[0m\u001b[0;34m\u001b[0m\u001b[0m\n\u001b[1;32m    511\u001b[0m             \u001b[0;32mif\u001b[0m \u001b[0mreload\u001b[0m\u001b[0;34m:\u001b[0m\u001b[0;34m\u001b[0m\u001b[0;34m\u001b[0m\u001b[0m\n\u001b[0;32m--> 512\u001b[0;31m                 \u001b[0;32mawait\u001b[0m \u001b[0mpage\u001b[0m\u001b[0;34m.\u001b[0m\u001b[0mgoto\u001b[0m\u001b[0;34m(\u001b[0m\u001b[0murl\u001b[0m\u001b[0;34m,\u001b[0m \u001b[0moptions\u001b[0m\u001b[0;34m=\u001b[0m\u001b[0;34m{\u001b[0m\u001b[0;34m'timeout'\u001b[0m\u001b[0;34m:\u001b[0m \u001b[0mint\u001b[0m\u001b[0;34m(\u001b[0m\u001b[0mtimeout\u001b[0m \u001b[0;34m*\u001b[0m \u001b[0;36m1000\u001b[0m\u001b[0;34m)\u001b[0m\u001b[0;34m}\u001b[0m\u001b[0;34m)\u001b[0m\u001b[0;34m\u001b[0m\u001b[0;34m\u001b[0m\u001b[0m\n\u001b[0m\u001b[1;32m    513\u001b[0m             \u001b[0;32melse\u001b[0m\u001b[0;34m:\u001b[0m\u001b[0;34m\u001b[0m\u001b[0;34m\u001b[0m\u001b[0m\n\u001b[1;32m    514\u001b[0m                 \u001b[0;32mawait\u001b[0m \u001b[0mpage\u001b[0m\u001b[0;34m.\u001b[0m\u001b[0mgoto\u001b[0m\u001b[0;34m(\u001b[0m\u001b[0;34mf'data:text/html,{self.html}'\u001b[0m\u001b[0;34m,\u001b[0m \u001b[0moptions\u001b[0m\u001b[0;34m=\u001b[0m\u001b[0;34m{\u001b[0m\u001b[0;34m'timeout'\u001b[0m\u001b[0;34m:\u001b[0m \u001b[0mint\u001b[0m\u001b[0;34m(\u001b[0m\u001b[0mtimeout\u001b[0m \u001b[0;34m*\u001b[0m \u001b[0;36m1000\u001b[0m\u001b[0;34m)\u001b[0m\u001b[0;34m}\u001b[0m\u001b[0;34m)\u001b[0m\u001b[0;34m\u001b[0m\u001b[0;34m\u001b[0m\u001b[0m\n",
      "\u001b[0;32m/usr/local/lib/python3.8/site-packages/pyppeteer/page.py\u001b[0m in \u001b[0;36mgoto\u001b[0;34m(self, url, options, **kwargs)\u001b[0m\n\u001b[1;32m    883\u001b[0m         \u001b[0merror\u001b[0m \u001b[0;34m=\u001b[0m \u001b[0mresult\u001b[0m\u001b[0;34m[\u001b[0m\u001b[0;36m0\u001b[0m\u001b[0;34m]\u001b[0m\u001b[0;34m.\u001b[0m\u001b[0mpop\u001b[0m\u001b[0;34m(\u001b[0m\u001b[0;34m)\u001b[0m\u001b[0;34m.\u001b[0m\u001b[0mexception\u001b[0m\u001b[0;34m(\u001b[0m\u001b[0;34m)\u001b[0m  \u001b[0;31m# type: ignore\u001b[0m\u001b[0;34m\u001b[0m\u001b[0;34m\u001b[0m\u001b[0m\n\u001b[1;32m    884\u001b[0m         \u001b[0;32mif\u001b[0m \u001b[0merror\u001b[0m\u001b[0;34m:\u001b[0m\u001b[0;34m\u001b[0m\u001b[0;34m\u001b[0m\u001b[0m\n\u001b[0;32m--> 885\u001b[0;31m             \u001b[0;32mraise\u001b[0m \u001b[0merror\u001b[0m\u001b[0;34m\u001b[0m\u001b[0;34m\u001b[0m\u001b[0m\n\u001b[0m\u001b[1;32m    886\u001b[0m \u001b[0;34m\u001b[0m\u001b[0m\n\u001b[1;32m    887\u001b[0m         \u001b[0mrequest\u001b[0m \u001b[0;34m=\u001b[0m \u001b[0mrequests\u001b[0m\u001b[0;34m.\u001b[0m\u001b[0mget\u001b[0m\u001b[0;34m(\u001b[0m\u001b[0mmainFrame\u001b[0m\u001b[0;34m.\u001b[0m\u001b[0m_navigationURL\u001b[0m\u001b[0;34m)\u001b[0m\u001b[0;34m\u001b[0m\u001b[0;34m\u001b[0m\u001b[0m\n",
      "\u001b[0;31mTimeoutError\u001b[0m: Navigation Timeout Exceeded: 30000 ms exceeded."
     ]
    }
   ],
   "source": [
    "# Open session and generate blank list\n",
    "session = AsyncHTMLSession()\n",
    "id_list = []\n",
    "curr_league = ''\n",
    "failed_list = []\n",
    "# Loop for each of the team links from the previous section\n",
    "for i, link_tup in enumerate(link_list):\n",
    "    print('Next iteration begins')\n",
    "    # wait before calling\n",
    "    time.sleep(float(np.random.rand(1)) * 5 + 7.5)  # random call times b/w 7.5 and 12.5 seconds \n",
    "    # Better follow progress with some updates\n",
    "    if link_tup[0] != curr_league:\n",
    "        curr_league = link_tup[0]\n",
    "        print('Scraping', curr_league, '...')\n",
    "    curr_id_length = len(id_list)\n",
    "    # Connect into Baseball-Reference\n",
    "    print('Sleep finished. Getting session')\n",
    "    res = await session.get('https://www.baseball-reference.com' + link_tup[1])\n",
    "    print('Got session, attempting render.')\n",
    "    # Check for time-out errors when rendering JS\n",
    "    try:\n",
    "        await res.html.arender(timeout = 30.0)\n",
    "    except TimeoutError:\n",
    "        print('Page', i + 1, 'failed due to timeout.')\n",
    "        failed_list.append((link_tup, 'TimeOut'))\n",
    "        continue\n",
    "    except TypeError:\n",
    "        print('Page', i + 1, 'failed due to typeerror.')\n",
    "        failed_list.append((link_tup, 'TypeError'))\n",
    "        continue\n",
    "\n",
    "    print('Page', i + 1, 'rendered.')\n",
    "    # Make soup and cut print(lento MLB pitchers and batters\n",
    "    team_soup = bs4.BeautifulSoup(res.html.html)\n",
    "    mlb_batters = team_soup.select('#team_batting tbody tr td strong a')\n",
    "    mlb_pitchers = team_soup.select('#team_pitching tbody tr td strong a')\n",
    "    # Loop over each of these and add to the id_list (only if not in the list already) \n",
    "    for bttr in mlb_batters:\n",
    "        bttr_id = bttr.get('href').split('id=')[1]\n",
    "        if bttr_id not in id_list:\n",
    "            id_list.append(bttr_id)\n",
    "    for ptchr in mlb_pitchers:\n",
    "        ptchr_id = ptchr.get('href').split('id=')[1]\n",
    "        if ptchr_id not in id_list:\n",
    "            id_list.append(ptchr_id)\n",
    "    print('Page', i + 1, 'scraped.', len(id_list) - curr_id_length, 'new players added.')\n",
    "    print(len(id_list), 'total players.')\n",
    "    print()\n",
    "\n",
    "print('Completed.')"
   ]
  },
  {
   "cell_type": "code",
   "execution_count": 7,
   "metadata": {},
   "outputs": [
    {
     "output_type": "execute_result",
     "data": {
      "text/plain": "       player_id\n0   fernan018jos\n1   alcant001rau\n2   flexen000chr\n3   barnes001bra\n4   hoying001jar\n..           ...\n76  hacker001eri\n77  rogers001esm\n78  adlema001tim\n79  bonill001lis\n80  kelly-003ken\n\n[81 rows x 1 columns]",
      "text/html": "<div>\n<style scoped>\n    .dataframe tbody tr th:only-of-type {\n        vertical-align: middle;\n    }\n\n    .dataframe tbody tr th {\n        vertical-align: top;\n    }\n\n    .dataframe thead th {\n        text-align: right;\n    }\n</style>\n<table border=\"1\" class=\"dataframe\">\n  <thead>\n    <tr style=\"text-align: right;\">\n      <th></th>\n      <th>player_id</th>\n    </tr>\n  </thead>\n  <tbody>\n    <tr>\n      <th>0</th>\n      <td>fernan018jos</td>\n    </tr>\n    <tr>\n      <th>1</th>\n      <td>alcant001rau</td>\n    </tr>\n    <tr>\n      <th>2</th>\n      <td>flexen000chr</td>\n    </tr>\n    <tr>\n      <th>3</th>\n      <td>barnes001bra</td>\n    </tr>\n    <tr>\n      <th>4</th>\n      <td>hoying001jar</td>\n    </tr>\n    <tr>\n      <th>...</th>\n      <td>...</td>\n    </tr>\n    <tr>\n      <th>76</th>\n      <td>hacker001eri</td>\n    </tr>\n    <tr>\n      <th>77</th>\n      <td>rogers001esm</td>\n    </tr>\n    <tr>\n      <th>78</th>\n      <td>adlema001tim</td>\n    </tr>\n    <tr>\n      <th>79</th>\n      <td>bonill001lis</td>\n    </tr>\n    <tr>\n      <th>80</th>\n      <td>kelly-003ken</td>\n    </tr>\n  </tbody>\n</table>\n<p>81 rows × 1 columns</p>\n</div>"
     },
     "metadata": {},
     "execution_count": 7
    }
   ],
   "source": [
    "pd.DataFrame(id_list, columns=['player_id'])"
   ]
  }
 ]
}
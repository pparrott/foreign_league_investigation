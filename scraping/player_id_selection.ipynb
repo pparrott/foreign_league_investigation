{
 "metadata": {
  "language_info": {
   "codemirror_mode": {
    "name": "ipython",
    "version": 3
   },
   "file_extension": ".py",
   "mimetype": "text/x-python",
   "name": "python",
   "nbconvert_exporter": "python",
   "pygments_lexer": "ipython3",
   "version": 3
  },
  "orig_nbformat": 2,
  "kernelspec": {
   "name": "python_defaultSpec_1596382982223",
   "display_name": "Python 3.8.3 64-bit"
  }
 },
 "nbformat": 4,
 "nbformat_minor": 2,
 "cells": [
  {
   "cell_type": "markdown",
   "metadata": {},
   "source": [
    "# Player id scraping\n",
    "---\n",
    "Getting all player data from KBO and NPB teams who have played in the MLB"
   ]
  },
  {
   "cell_type": "markdown",
   "metadata": {},
   "source": [
    "## Obtaining team codes\n",
    "The first step involves getting the links to every team's lineup for every season"
   ]
  },
  {
   "cell_type": "code",
   "execution_count": 8,
   "metadata": {},
   "outputs": [],
   "source": [
    "import bs4\n",
    "import numpy as np \n",
    "import pandas as pd \n",
    "from requests_html import AsyncHTMLSession\n",
    "import time\n",
    "from selenium import webdriver"
   ]
  },
  {
   "cell_type": "code",
   "execution_count": 6,
   "metadata": {},
   "outputs": [],
   "source": [
    "league_codes = [\n",
    "    ('KBO', 'KBO'),\n",
    "    ('NPB_central', 'JPCL'),\n",
    "    ('NPB_pacific', 'JPPL')\n",
    "]\n",
    "league_url = 'https://www.baseball-reference.com/register/league.cgi?code={league}&class=Fgn'\n"
   ]
  },
  {
   "cell_type": "code",
   "execution_count": 7,
   "metadata": {
    "tags": []
   },
   "outputs": [
    {
     "output_type": "stream",
     "name": "stdout",
     "text": "Beginning KBO scrape...\nKBO rendered.\n174 total links after completion of KBO\n\nBeginning NPB_central scrape...\nNPB_central rendered.\n294 total links after completion of NPB_central\n\nBeginning NPB_pacific scrape...\nNPB_pacific rendered.\n414 total links after completion of NPB_pacific\n\nCompleted.\n"
    }
   ],
   "source": [
    "# Open session and generate blank list\n",
    "session = AsyncHTMLSession()\n",
    "link_list = []\n",
    "\n",
    "# Loop for each league and gather all team links\n",
    "for league_tup in league_codes:\n",
    "    print('Beginning', league_tup[0], 'scrape...')\n",
    "    \n",
    "    # Render the page's JS\n",
    "    res = await session.get(league_url.format(league=league_tup[1]))\n",
    "    await res.html.arender()\n",
    "    print(league_tup[0], 'rendered.')\n",
    "    \n",
    "    # Make some soup and take a look at the lg_history table\n",
    "    league_history_soup = bs4.BeautifulSoup(res.html.html, 'lxml')\n",
    "    league_history_rows = league_history_soup.select('#lg_history tbody tr')\n",
    "\n",
    "    count = 0\n",
    "    i = 0\n",
    "    \n",
    "    # Loop over each row and take each individual team's links\n",
    "    while count < 20:  # take the last 20 seasons of players\n",
    "        if league_history_rows[i].get('class') == 'thead':\n",
    "            # This is a catch for blank rows, so as not to have a blank season\n",
    "            i += 1\n",
    "        else:\n",
    "            for link in league_history_rows[i].select('td a'):\n",
    "                # append the league it belongs to, and the link's reference\n",
    "                link_list.append((league_tup[0], link.get('href')))\n",
    "            i += 1\n",
    "            count += 1\n",
    "    \n",
    "    print(len(link_list), 'total links after completion of', league_tup[0])\n",
    "    print()\n",
    "    time.sleep(5)\n",
    "    \n",
    "print('Completed.')"
   ]
  },
  {
   "cell_type": "markdown",
   "metadata": {},
   "source": [
    "## Obtaining only the MLB players' ids\n",
    "The second step involves chasing each of these team links, and identifying the player_ids that are designated as former MLB players\n",
    "\n",
    "One thing to keep in mind, is that these identify HOF'ers as well, so each players data has to be checked to make sure that they were in fact an MLB player\n",
    "\n",
    "Another thing, Selenium was used as request_html continued to fail when rendering the page due to timeouts"
   ]
  },
  {
   "cell_type": "code",
   "execution_count": 33,
   "metadata": {
    "tags": [
     "outputPrepend"
    ]
   },
   "outputs": [
    {
     "output_type": "stream",
     "name": "stdout",
     "text": "Page 292 rendered.\nPage 292 scraped. 1 new players added.\n602 total players.\n\nNext iteration begins\nOpening page...\nObtained session, sleeping before parsing HTML\nPage 293 rendered.\nPage 293 scraped. 5 new players added.\n607 total players.\n\nNext iteration begins\nOpening page...\nObtained session, sleeping before parsing HTML\nPage 294 rendered.\nPage 294 scraped. 3 new players added.\n610 total players.\n\nNext iteration begins\nScraping NPB_pacific ...\nOpening page...\nObtained session, sleeping before parsing HTML\nPage 295 rendered.\nPage 295 scraped. 3 new players added.\n613 total players.\n\nNext iteration begins\nOpening page...\nObtained session, sleeping before parsing HTML\nPage 296 rendered.\nPage 296 scraped. 2 new players added.\n615 total players.\n\nNext iteration begins\nOpening page...\nObtained session, sleeping before parsing HTML\nPage 297 rendered.\nPage 297 scraped. 3 new players added.\n618 total players.\n\nNext iteration begins\nOpening page...\nObtained session, sleeping before parsing HTML\nPage 298 rendered.\nPage 298 scraped. 2 new players added.\n620 total players.\n\nNext iteration begins\nOpening page...\nObtained session, sleeping before parsing HTML\nPage 299 rendered.\nPage 299 scraped. 3 new players added.\n623 total players.\n\nNext iteration begins\nOpening page...\nObtained session, sleeping before parsing HTML\nPage 300 rendered.\nPage 300 scraped. 5 new players added.\n628 total players.\n\nNext iteration begins\nOpening page...\nObtained session, sleeping before parsing HTML\nPage 301 rendered.\nPage 301 scraped. 3 new players added.\n631 total players.\n\nNext iteration begins\nOpening page...\nObtained session, sleeping before parsing HTML\nPage 302 rendered.\nPage 302 scraped. 1 new players added.\n632 total players.\n\nNext iteration begins\nOpening page...\nObtained session, sleeping before parsing HTML\nPage 303 rendered.\nPage 303 scraped. 3 new players added.\n635 total players.\n\nNext iteration begins\nOpening page...\nObtained session, sleeping before parsing HTML\nPage 304 rendered.\nPage 304 scraped. 1 new players added.\n636 total players.\n\nNext iteration begins\nOpening page...\nObtained session, sleeping before parsing HTML\nPage 305 rendered.\nPage 305 scraped. 2 new players added.\n638 total players.\n\nNext iteration begins\nOpening page...\nObtained session, sleeping before parsing HTML\nPage 306 rendered.\nPage 306 scraped. 0 new players added.\n638 total players.\n\nNext iteration begins\nOpening page...\nObtained session, sleeping before parsing HTML\nPage 307 rendered.\nPage 307 scraped. 3 new players added.\n641 total players.\n\nNext iteration begins\nOpening page...\nObtained session, sleeping before parsing HTML\nPage 308 rendered.\nPage 308 scraped. 0 new players added.\n641 total players.\n\nNext iteration begins\nOpening page...\nObtained session, sleeping before parsing HTML\nPage 309 rendered.\nPage 309 scraped. 2 new players added.\n643 total players.\n\nNext iteration begins\nOpening page...\nObtained session, sleeping before parsing HTML\nPage 310 rendered.\nPage 310 scraped. 0 new players added.\n643 total players.\n\nNext iteration begins\nOpening page...\nObtained session, sleeping before parsing HTML\nPage 311 rendered.\nPage 311 scraped. 4 new players added.\n647 total players.\n\nNext iteration begins\nOpening page...\nObtained session, sleeping before parsing HTML\nPage 312 rendered.\nPage 312 scraped. 1 new players added.\n648 total players.\n\nNext iteration begins\nOpening page...\nObtained session, sleeping before parsing HTML\nPage 313 rendered.\nPage 313 scraped. 3 new players added.\n651 total players.\n\nNext iteration begins\nOpening page...\nObtained session, sleeping before parsing HTML\nPage 314 rendered.\nPage 314 scraped. 2 new players added.\n653 total players.\n\nNext iteration begins\nOpening page...\nObtained session, sleeping before parsing HTML\nPage 315 rendered.\nPage 315 scraped. 2 new players added.\n655 total players.\n\nNext iteration begins\nOpening page...\nObtained session, sleeping before parsing HTML\nPage 316 rendered.\nPage 316 scraped. 5 new players added.\n660 total players.\n\nNext iteration begins\nOpening page...\nObtained session, sleeping before parsing HTML\nPage 317 rendered.\nPage 317 scraped. 3 new players added.\n663 total players.\n\nNext iteration begins\nOpening page...\nObtained session, sleeping before parsing HTML\nPage 318 rendered.\nPage 318 scraped. 0 new players added.\n663 total players.\n\nNext iteration begins\nOpening page...\nObtained session, sleeping before parsing HTML\nPage 319 rendered.\nPage 319 scraped. 0 new players added.\n663 total players.\n\nNext iteration begins\nOpening page...\nObtained session, sleeping before parsing HTML\nPage 320 rendered.\nPage 320 scraped. 1 new players added.\n664 total players.\n\nNext iteration begins\nOpening page...\nObtained session, sleeping before parsing HTML\nPage 321 rendered.\nPage 321 scraped. 1 new players added.\n665 total players.\n\nNext iteration begins\nOpening page...\nObtained session, sleeping before parsing HTML\nPage 322 rendered.\nPage 322 scraped. 3 new players added.\n668 total players.\n\nNext iteration begins\nOpening page...\nObtained session, sleeping before parsing HTML\nPage 323 rendered.\nPage 323 scraped. 3 new players added.\n671 total players.\n\nNext iteration begins\nOpening page...\nObtained session, sleeping before parsing HTML\nPage 324 rendered.\nPage 324 scraped. 1 new players added.\n672 total players.\n\nNext iteration begins\nOpening page...\nObtained session, sleeping before parsing HTML\nPage 325 rendered.\nPage 325 scraped. 2 new players added.\n674 total players.\n\nNext iteration begins\nOpening page...\nObtained session, sleeping before parsing HTML\nPage 326 rendered.\nPage 326 scraped. 0 new players added.\n674 total players.\n\nNext iteration begins\nOpening page...\nObtained session, sleeping before parsing HTML\nPage 327 rendered.\nPage 327 scraped. 3 new players added.\n677 total players.\n\nNext iteration begins\nOpening page...\nObtained session, sleeping before parsing HTML\nPage 328 rendered.\nPage 328 scraped. 1 new players added.\n678 total players.\n\nNext iteration begins\nOpening page...\nObtained session, sleeping before parsing HTML\nPage 329 rendered.\nPage 329 scraped. 1 new players added.\n679 total players.\n\nNext iteration begins\nOpening page...\nObtained session, sleeping before parsing HTML\nPage 330 rendered.\nPage 330 scraped. 2 new players added.\n681 total players.\n\nNext iteration begins\nOpening page...\nObtained session, sleeping before parsing HTML\nPage 331 rendered.\nPage 331 scraped. 0 new players added.\n681 total players.\n\nNext iteration begins\nOpening page...\nObtained session, sleeping before parsing HTML\nPage 332 rendered.\nPage 332 scraped. 0 new players added.\n681 total players.\n\nNext iteration begins\nOpening page...\nObtained session, sleeping before parsing HTML\nPage 333 rendered.\nPage 333 scraped. 2 new players added.\n683 total players.\n\nNext iteration begins\nOpening page...\nObtained session, sleeping before parsing HTML\nPage 334 rendered.\nPage 334 scraped. 2 new players added.\n685 total players.\n\nNext iteration begins\nOpening page...\nObtained session, sleeping before parsing HTML\nPage 335 rendered.\nPage 335 scraped. 3 new players added.\n688 total players.\n\nNext iteration begins\nOpening page...\nObtained session, sleeping before parsing HTML\nPage 336 rendered.\nPage 336 scraped. 3 new players added.\n691 total players.\n\nNext iteration begins\nOpening page...\nObtained session, sleeping before parsing HTML\nPage 337 rendered.\nPage 337 scraped. 1 new players added.\n692 total players.\n\nNext iteration begins\nOpening page...\nObtained session, sleeping before parsing HTML\nPage 338 rendered.\nPage 338 scraped. 2 new players added.\n694 total players.\n\nNext iteration begins\nOpening page...\nObtained session, sleeping before parsing HTML\nPage 339 rendered.\nPage 339 scraped. 3 new players added.\n697 total players.\n\nNext iteration begins\nOpening page...\nObtained session, sleeping before parsing HTML\nPage 340 rendered.\nPage 340 scraped. 1 new players added.\n698 total players.\n\nNext iteration begins\nOpening page...\nObtained session, sleeping before parsing HTML\nPage 341 rendered.\nPage 341 scraped. 3 new players added.\n701 total players.\n\nNext iteration begins\nOpening page...\nObtained session, sleeping before parsing HTML\nPage 342 rendered.\nPage 342 scraped. 3 new players added.\n704 total players.\n\nNext iteration begins\nOpening page...\nObtained session, sleeping before parsing HTML\nPage 343 rendered.\nPage 343 scraped. 2 new players added.\n706 total players.\n\nNext iteration begins\nOpening page...\nObtained session, sleeping before parsing HTML\nPage 344 rendered.\nPage 344 scraped. 5 new players added.\n711 total players.\n\nNext iteration begins\nOpening page...\nObtained session, sleeping before parsing HTML\nPage 345 rendered.\nPage 345 scraped. 0 new players added.\n711 total players.\n\nNext iteration begins\nOpening page...\nObtained session, sleeping before parsing HTML\nPage 346 rendered.\nPage 346 scraped. 2 new players added.\n713 total players.\n\nNext iteration begins\nOpening page...\nObtained session, sleeping before parsing HTML\nPage 347 rendered.\nPage 347 scraped. 1 new players added.\n714 total players.\n\nNext iteration begins\nOpening page...\nObtained session, sleeping before parsing HTML\nPage 348 rendered.\nPage 348 scraped. 1 new players added.\n715 total players.\n\nNext iteration begins\nOpening page...\nObtained session, sleeping before parsing HTML\nPage 349 rendered.\nPage 349 scraped. 1 new players added.\n716 total players.\n\nNext iteration begins\nOpening page...\nObtained session, sleeping before parsing HTML\nPage 350 rendered.\nPage 350 scraped. 1 new players added.\n717 total players.\n\nNext iteration begins\nOpening page...\nObtained session, sleeping before parsing HTML\nPage 351 rendered.\nPage 351 scraped. 1 new players added.\n718 total players.\n\nNext iteration begins\nOpening page...\nObtained session, sleeping before parsing HTML\nPage 352 rendered.\nPage 352 scraped. 2 new players added.\n720 total players.\n\nNext iteration begins\nOpening page...\nObtained session, sleeping before parsing HTML\nPage 353 rendered.\nPage 353 scraped. 2 new players added.\n722 total players.\n\nNext iteration begins\nOpening page...\nObtained session, sleeping before parsing HTML\nPage 354 rendered.\nPage 354 scraped. 3 new players added.\n725 total players.\n\nNext iteration begins\nOpening page...\nObtained session, sleeping before parsing HTML\nPage 355 rendered.\nPage 355 scraped. 0 new players added.\n725 total players.\n\nNext iteration begins\nOpening page...\nObtained session, sleeping before parsing HTML\nPage 356 rendered.\nPage 356 scraped. 1 new players added.\n726 total players.\n\nNext iteration begins\nOpening page...\nObtained session, sleeping before parsing HTML\nPage 357 rendered.\nPage 357 scraped. 0 new players added.\n726 total players.\n\nNext iteration begins\nOpening page...\nObtained session, sleeping before parsing HTML\nPage 358 rendered.\nPage 358 scraped. 3 new players added.\n729 total players.\n\nNext iteration begins\nOpening page...\nObtained session, sleeping before parsing HTML\nPage 359 rendered.\nPage 359 scraped. 0 new players added.\n729 total players.\n\nNext iteration begins\nOpening page...\nObtained session, sleeping before parsing HTML\nPage 360 rendered.\nPage 360 scraped. 2 new players added.\n731 total players.\n\nNext iteration begins\nOpening page...\nObtained session, sleeping before parsing HTML\nPage 361 rendered.\nPage 361 scraped. 1 new players added.\n732 total players.\n\nNext iteration begins\nOpening page...\nObtained session, sleeping before parsing HTML\nPage 362 rendered.\nPage 362 scraped. 2 new players added.\n734 total players.\n\nNext iteration begins\nOpening page...\nObtained session, sleeping before parsing HTML\nPage 363 rendered.\nPage 363 scraped. 2 new players added.\n736 total players.\n\nNext iteration begins\nOpening page...\nObtained session, sleeping before parsing HTML\nPage 364 rendered.\nPage 364 scraped. 0 new players added.\n736 total players.\n\nNext iteration begins\nOpening page...\nObtained session, sleeping before parsing HTML\nPage 365 rendered.\nPage 365 scraped. 2 new players added.\n738 total players.\n\nNext iteration begins\nOpening page...\nObtained session, sleeping before parsing HTML\nPage 366 rendered.\nPage 366 scraped. 3 new players added.\n741 total players.\n\nNext iteration begins\nOpening page...\nObtained session, sleeping before parsing HTML\nPage 367 rendered.\nPage 367 scraped. 2 new players added.\n743 total players.\n\nNext iteration begins\nOpening page...\nObtained session, sleeping before parsing HTML\nPage 368 rendered.\nPage 368 scraped. 1 new players added.\n744 total players.\n\nNext iteration begins\nOpening page...\nObtained session, sleeping before parsing HTML\nPage 369 rendered.\nPage 369 scraped. 1 new players added.\n745 total players.\n\nNext iteration begins\nOpening page...\nObtained session, sleeping before parsing HTML\nPage 370 rendered.\nPage 370 scraped. 2 new players added.\n747 total players.\n\nNext iteration begins\nOpening page...\nObtained session, sleeping before parsing HTML\nPage 371 rendered.\nPage 371 scraped. 1 new players added.\n748 total players.\n\nNext iteration begins\nOpening page...\nObtained session, sleeping before parsing HTML\nPage 372 rendered.\nPage 372 scraped. 0 new players added.\n748 total players.\n\nNext iteration begins\nOpening page...\nObtained session, sleeping before parsing HTML\nPage 373 rendered.\nPage 373 scraped. 1 new players added.\n749 total players.\n\nNext iteration begins\nOpening page...\nObtained session, sleeping before parsing HTML\nPage 374 rendered.\nPage 374 scraped. 2 new players added.\n751 total players.\n\nNext iteration begins\nOpening page...\nObtained session, sleeping before parsing HTML\nPage 375 rendered.\nPage 375 scraped. 1 new players added.\n752 total players.\n\nNext iteration begins\nOpening page...\nObtained session, sleeping before parsing HTML\nPage 376 rendered.\nPage 376 scraped. 3 new players added.\n755 total players.\n\nNext iteration begins\nOpening page...\nObtained session, sleeping before parsing HTML\nPage 377 rendered.\nPage 377 scraped. 3 new players added.\n758 total players.\n\nNext iteration begins\nOpening page...\nObtained session, sleeping before parsing HTML\nPage 378 rendered.\nPage 378 scraped. 0 new players added.\n758 total players.\n\nNext iteration begins\nOpening page...\nObtained session, sleeping before parsing HTML\nPage 379 rendered.\nPage 379 scraped. 4 new players added.\n762 total players.\n\nNext iteration begins\nOpening page...\nObtained session, sleeping before parsing HTML\nPage 380 rendered.\nPage 380 scraped. 2 new players added.\n764 total players.\n\nNext iteration begins\nOpening page...\nObtained session, sleeping before parsing HTML\nPage 381 rendered.\nPage 381 scraped. 3 new players added.\n767 total players.\n\nNext iteration begins\nOpening page...\nObtained session, sleeping before parsing HTML\nPage 382 rendered.\nPage 382 scraped. 1 new players added.\n768 total players.\n\nNext iteration begins\nOpening page...\nObtained session, sleeping before parsing HTML\nPage 383 rendered.\nPage 383 scraped. 0 new players added.\n768 total players.\n\nNext iteration begins\nOpening page...\nObtained session, sleeping before parsing HTML\nPage 384 rendered.\nPage 384 scraped. 1 new players added.\n769 total players.\n\nNext iteration begins\nOpening page...\nObtained session, sleeping before parsing HTML\nPage 385 rendered.\nPage 385 scraped. 0 new players added.\n769 total players.\n\nNext iteration begins\nOpening page...\nObtained session, sleeping before parsing HTML\nPage 386 rendered.\nPage 386 scraped. 2 new players added.\n771 total players.\n\nNext iteration begins\nOpening page...\nObtained session, sleeping before parsing HTML\nPage 387 rendered.\nPage 387 scraped. 2 new players added.\n773 total players.\n\nNext iteration begins\nOpening page...\nObtained session, sleeping before parsing HTML\nPage 388 rendered.\nPage 388 scraped. 2 new players added.\n775 total players.\n\nNext iteration begins\nOpening page...\nObtained session, sleeping before parsing HTML\nPage 389 rendered.\nPage 389 scraped. 0 new players added.\n775 total players.\n\nNext iteration begins\nOpening page...\nObtained session, sleeping before parsing HTML\nPage 390 rendered.\nPage 390 scraped. 5 new players added.\n780 total players.\n\nNext iteration begins\nOpening page...\nObtained session, sleeping before parsing HTML\nPage 391 rendered.\nPage 391 scraped. 1 new players added.\n781 total players.\n\nNext iteration begins\nOpening page...\nObtained session, sleeping before parsing HTML\nPage 392 rendered.\nPage 392 scraped. 2 new players added.\n783 total players.\n\nNext iteration begins\nOpening page...\nObtained session, sleeping before parsing HTML\nPage 393 rendered.\nPage 393 scraped. 2 new players added.\n785 total players.\n\nNext iteration begins\nOpening page...\nObtained session, sleeping before parsing HTML\nPage 394 rendered.\nPage 394 scraped. 3 new players added.\n788 total players.\n\nNext iteration begins\nOpening page...\nObtained session, sleeping before parsing HTML\nPage 395 rendered.\nPage 395 scraped. 3 new players added.\n791 total players.\n\nNext iteration begins\nOpening page...\nObtained session, sleeping before parsing HTML\nPage 396 rendered.\nPage 396 scraped. 0 new players added.\n791 total players.\n\nNext iteration begins\nOpening page...\nObtained session, sleeping before parsing HTML\nPage 397 rendered.\nPage 397 scraped. 1 new players added.\n792 total players.\n\nNext iteration begins\nOpening page...\nObtained session, sleeping before parsing HTML\nPage 398 rendered.\nPage 398 scraped. 1 new players added.\n793 total players.\n\nNext iteration begins\nOpening page...\nObtained session, sleeping before parsing HTML\nPage 399 rendered.\nPage 399 scraped. 2 new players added.\n795 total players.\n\nNext iteration begins\nOpening page...\nObtained session, sleeping before parsing HTML\nPage 400 rendered.\nPage 400 scraped. 1 new players added.\n796 total players.\n\nNext iteration begins\nOpening page...\nObtained session, sleeping before parsing HTML\nPage 401 rendered.\nPage 401 scraped. 2 new players added.\n798 total players.\n\nNext iteration begins\nOpening page...\nObtained session, sleeping before parsing HTML\nPage 402 rendered.\nPage 402 scraped. 0 new players added.\n798 total players.\n\nNext iteration begins\nOpening page...\nObtained session, sleeping before parsing HTML\nPage 403 rendered.\nPage 403 scraped. 1 new players added.\n799 total players.\n\nNext iteration begins\nOpening page...\nObtained session, sleeping before parsing HTML\nPage 404 rendered.\nPage 404 scraped. 2 new players added.\n801 total players.\n\nNext iteration begins\nOpening page...\nObtained session, sleeping before parsing HTML\nPage 405 rendered.\nPage 405 scraped. 0 new players added.\n801 total players.\n\nNext iteration begins\nOpening page...\nObtained session, sleeping before parsing HTML\nPage 406 rendered.\nPage 406 scraped. 1 new players added.\n802 total players.\n\nNext iteration begins\nOpening page...\nObtained session, sleeping before parsing HTML\nPage 407 rendered.\nPage 407 scraped. 2 new players added.\n804 total players.\n\nNext iteration begins\nOpening page...\nObtained session, sleeping before parsing HTML\nPage 408 rendered.\nPage 408 scraped. 0 new players added.\n804 total players.\n\nNext iteration begins\nOpening page...\nObtained session, sleeping before parsing HTML\nPage 409 rendered.\nPage 409 scraped. 1 new players added.\n805 total players.\n\nNext iteration begins\nOpening page...\nObtained session, sleeping before parsing HTML\nPage 410 rendered.\nPage 410 scraped. 1 new players added.\n806 total players.\n\nNext iteration begins\nOpening page...\nObtained session, sleeping before parsing HTML\nPage 411 rendered.\nPage 411 scraped. 2 new players added.\n808 total players.\n\nNext iteration begins\nOpening page...\nObtained session, sleeping before parsing HTML\nPage 412 rendered.\nPage 412 scraped. 2 new players added.\n810 total players.\n\nNext iteration begins\nOpening page...\nObtained session, sleeping before parsing HTML\nPage 413 rendered.\nPage 413 scraped. 2 new players added.\n812 total players.\n\nNext iteration begins\nOpening page...\nObtained session, sleeping before parsing HTML\nPage 414 rendered.\nPage 414 scraped. 1 new players added.\n813 total players.\n\nCompleted.\n"
    }
   ],
   "source": [
    "# Open browser and generate blank list\n",
    "browser = webdriver.Firefox()\n",
    "id_list = []\n",
    "curr_league = ''\n",
    "\n",
    "# Loop for each of the team links from the previous section\n",
    "for i, link_tup in enumerate(link_list):\n",
    "    print('Next iteration begins')\n",
    "    \n",
    "    # wait before calling\n",
    "    time.sleep(float(np.random.rand(1)) * 5 + 2.5)  # random call times b/w 2.5 and 7.5 seconds \n",
    "    \n",
    "    # Update progress of scraping\n",
    "    if link_tup[0] != curr_league:\n",
    "        curr_league = link_tup[0]\n",
    "        print('Scraping', curr_league, '...')\n",
    "    curr_id_length = len(id_list)\n",
    "    \n",
    "    # Connect into Baseball-Reference\n",
    "    print('Opening page...')\n",
    "    browser.get('https://www.baseball-reference.com' + link_tup[1])\n",
    "    print('Obtained session, sleeping before parsing HTML')\n",
    "    time.sleep(1)\n",
    "    print('Page', i + 1, 'rendered.')\n",
    "    \n",
    "    # Cut to MLB pitchers and batters\n",
    "    mlb_batters = browser.find_elements_by_css_selector('#team_batting tbody tr td strong a')\n",
    "    mlb_pitchers = browser.find_elements_by_css_selector('#team_pitching tbody tr td strong a')\n",
    "    \n",
    "    # Loop over each of these and add to the id_list (only if not in the list already) \n",
    "    for bttr in mlb_batters:\n",
    "        bttr_id = bttr.get_attribute('href').split('id=')[1]\n",
    "        if bttr_id not in id_list:\n",
    "            id_list.append(bttr_id)\n",
    "    for ptchr in mlb_pitchers:\n",
    "        ptchr_id = ptchr.get_attribute('href').split('id=')[1]\n",
    "        if ptchr_id not in id_list:\n",
    "            id_list.append(ptchr_id)\n",
    "\n",
    "    print('Page', i + 1, 'scraped.', len(id_list) - curr_id_length, 'new players added.')\n",
    "    print(len(id_list), 'total players.')\n",
    "    print()\n",
    "\n",
    "print('Completed.')\n",
    "browser.quit()"
   ]
  },
  {
   "cell_type": "code",
   "execution_count": 34,
   "metadata": {},
   "outputs": [],
   "source": [
    "player_ids = pd.DataFrame(id_list, columns=['player_id'])"
   ]
  },
  {
   "cell_type": "code",
   "execution_count": 36,
   "metadata": {},
   "outputs": [],
   "source": [
    "player_ids.to_csv('./player_ids_all.csv', index=False)"
   ]
  }
 ]
}